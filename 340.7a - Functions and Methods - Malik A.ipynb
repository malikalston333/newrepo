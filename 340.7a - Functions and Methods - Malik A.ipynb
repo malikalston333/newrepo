{
 "cells": [
  {
   "cell_type": "code",
   "execution_count": null,
   "metadata": {},
   "outputs": [
    {
     "name": "stdout",
     "output_type": "stream",
     "text": [
      "I like tacos alot\n",
      "I like tacos alot alot\n",
      "I like tacos like alot alot\n"
     ]
    }
   ],
   "source": [
    "# Basic def function\n",
    "def taco_time():\n",
    "    print(\"I like tacos alot\")\n",
    "    print(\"I like tacos alot alot\")\n",
    "    print(\"I like tacos like alot alot\")\n",
    "\n",
    "taco_time()\n",
    "\n",
    "#Basic def function with F string\n",
    "def food_time(bananas):\n",
    "    print(\"fI like tacos alot\")\n",
    "    print(\"I like tacos alot alot\")\n",
    "    print(\"I like tacos like alot alot\")\n",
    "\n",
    "taco_time()"
   ]
  },
  {
   "cell_type": "markdown",
   "metadata": {},
   "source": [
    "# Basic def function"
   ]
  },
  {
   "cell_type": "code",
   "execution_count": 33,
   "metadata": {},
   "outputs": [
    {
     "name": "stdout",
     "output_type": "stream",
     "text": [
      "I like tacos alot\n",
      "I like tacos alot alot\n",
      "I like tacos like alot alot\n"
     ]
    }
   ],
   "source": [
    "# Basic def function\n",
    "def taco_time():\n",
    "    print(\"I like tacos alot\")\n",
    "    print(\"I like tacos alot alot\")\n",
    "    print(\"I like tacos like alot alot\")\n",
    "\n",
    "taco_time()"
   ]
  },
  {
   "cell_type": "markdown",
   "metadata": {},
   "source": [
    "Basic def function with F string"
   ]
  },
  {
   "cell_type": "code",
   "execution_count": 34,
   "metadata": {},
   "outputs": [
    {
     "name": "stdout",
     "output_type": "stream",
     "text": [
      "I like bananas with yogurt on monday\n",
      "I like bananas with yogurt on tuesday\n",
      "I like bananas with yogurt on wednesday\n"
     ]
    }
   ],
   "source": [
    "#Basic def function with F string\n",
    "def food_time(food, food2):\n",
    "    print(f\"I like {food} with {food2} on monday\")\n",
    "    print(f\"I like {food} with {food2} on tuesday\")\n",
    "    print(f\"I like {food} with {food2} on wednesday\")\n",
    "\n",
    "food_time(\"bananas\", \"yogurt\")"
   ]
  },
  {
   "cell_type": "markdown",
   "metadata": {},
   "source": [
    "Basic def function (4 Paramaeters)"
   ]
  },
  {
   "cell_type": "code",
   "execution_count": 35,
   "metadata": {},
   "outputs": [
    {
     "name": "stdout",
     "output_type": "stream",
     "text": [
      "Hi Malik\n",
      "Your bill of $49.99 is due on Wednesday.\n",
      "Please be prepared to pay to avoid late fees of $5.00.\n"
     ]
    }
   ],
   "source": [
    "def display_invoice(username, amount, due_date, late_fee):\n",
    "    print(f\"Hi {username}\")\n",
    "    print(f\"Your bill of ${amount:.2f} is due on {due_date}.\")\n",
    "    print(f\"Please be prepared to pay to avoid late fees of ${late_fee:.2f}.\")\n",
    "\n",
    "display_invoice(\"Malik\", 49.99, \"Wednesday\", 5.00)"
   ]
  },
  {
   "cell_type": "markdown",
   "metadata": {},
   "source": [
    "Return Statement"
   ]
  },
  {
   "cell_type": "code",
   "execution_count": 36,
   "metadata": {},
   "outputs": [
    {
     "name": "stdout",
     "output_type": "stream",
     "text": [
      "9\n"
     ]
    }
   ],
   "source": [
    "def exponents (x, y):\n",
    "    z = x**y\n",
    "    return z\n",
    "\n",
    "print(exponents(3,2))\n"
   ]
  },
  {
   "cell_type": "markdown",
   "metadata": {},
   "source": [
    "Function to create a full name"
   ]
  },
  {
   "cell_type": "code",
   "execution_count": 47,
   "metadata": {},
   "outputs": [
    {
     "name": "stdout",
     "output_type": "stream",
     "text": [
      "Alston Calvin Malik\n"
     ]
    }
   ],
   "source": [
    "def create_name (last, middle, first):\n",
    "    last = last.capitalize()\n",
    "    middle = middle.capitalize()\n",
    "    first = first.capitalize()\n",
    "\n",
    "    return last + \" \" + middle + \" \" + first\n",
    "\n",
    "full_name = create_name(\"alston\", \"calvin\", \"malik\")\n",
    "\n",
    "print(full_name)"
   ]
  }
 ],
 "metadata": {
  "kernelspec": {
   "display_name": "Python 3",
   "language": "python",
   "name": "python3"
  },
  "language_info": {
   "codemirror_mode": {
    "name": "ipython",
    "version": 3
   },
   "file_extension": ".py",
   "mimetype": "text/x-python",
   "name": "python",
   "nbconvert_exporter": "python",
   "pygments_lexer": "ipython3",
   "version": "3.13.2"
  }
 },
 "nbformat": 4,
 "nbformat_minor": 2
}
