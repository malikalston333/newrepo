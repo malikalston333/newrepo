{
 "cells": [
  {
   "cell_type": "markdown",
   "metadata": {},
   "source": [
    "My List:"
   ]
  },
  {
   "cell_type": "code",
   "execution_count": 5,
   "metadata": {},
   "outputs": [
    {
     "name": "stdout",
     "output_type": "stream",
     "text": [
      "leo\n",
      "mike\n",
      "ralph\n",
      "don\n",
      "\n",
      "My favorite ninja turtle is mike.\n"
     ]
    }
   ],
   "source": [
    "#Create my 1st list\n",
    "mylist = ['leo', 'mike', 'ralph', 'don'] #list\n",
    "for x in mylist:\n",
    "    print(x)\n",
    "fav_turtle = mylist[1] #variable created for element selected in list\n",
    "print() #space from list\n",
    "print(f\"My favorite ninja turtle is {fav_turtle}.\")\n"
   ]
  },
  {
   "cell_type": "markdown",
   "metadata": {},
   "source": [
    "List within a list:"
   ]
  },
  {
   "cell_type": "code",
   "execution_count": null,
   "metadata": {},
   "outputs": [
    {
     "name": "stdout",
     "output_type": "stream",
     "text": [
      "['leo', 'mike', 'ralph', 'don', ['shredder', 'foot clan', 'bebop', 'rocksteady']]\n",
      "\n",
      "mike\n",
      "\n",
      "shredder\n"
     ]
    }
   ],
   "source": [
    "#Creating a list within a list\n",
    "mylist = ['leo', 'mike', 'ralph', 'don', ['shredder','foot clan','bebop', 'rocksteady']]\n",
    "print(mylist)\n",
    "print() #space\n",
    "print(mylist[1]) #second element selected in first list\n",
    "print() #space\n",
    "print(mylist[-1][0])#first element selected in list within list\n",
    "\n",
    "      "
   ]
  },
  {
   "cell_type": "markdown",
   "metadata": {},
   "source": [
    "Looping through list:"
   ]
  },
  {
   "cell_type": "code",
   "execution_count": null,
   "metadata": {},
   "outputs": [
    {
     "name": "stdout",
     "output_type": "stream",
     "text": [
      "['leo', 'mike', 'ralph', 'don']\n",
      "\n",
      "leo\n",
      "mike\n",
      "ralph\n",
      "don\n"
     ]
    }
   ],
   "source": [
    "mylist = ['leo', 'mike', 'ralph', 'don'] #List\n",
    "print(f\"{mylist}\") #Display list\n",
    "print()\n",
    "\n",
    "for x in mylist[:4]: #Loop through list\n",
    "    print(x)"
   ]
  },
  {
   "cell_type": "markdown",
   "metadata": {},
   "source": [
    "Modifying List:"
   ]
  },
  {
   "cell_type": "code",
   "execution_count": 27,
   "metadata": {},
   "outputs": [
    {
     "name": "stdout",
     "output_type": "stream",
     "text": [
      "['leo', 'mike', 'ralph', 'splinter']\n"
     ]
    }
   ],
   "source": [
    "mylist = ['leo', 'mike', 'ralph', 'don']\n",
    "mylist[3] = 'splinter'\n",
    "print(mylist)"
   ]
  },
  {
   "cell_type": "markdown",
   "metadata": {},
   "source": [
    "Append List:"
   ]
  },
  {
   "cell_type": "code",
   "execution_count": 3,
   "metadata": {},
   "outputs": [
    {
     "name": "stdout",
     "output_type": "stream",
     "text": [
      "['leo', 'mike', 'ralph', 'don', 'splinter']\n"
     ]
    }
   ],
   "source": [
    "mylist = ['leo', 'mike', 'ralph', 'don']\n",
    "mylist.append('splinter')\n",
    "print(mylist)"
   ]
  },
  {
   "cell_type": "markdown",
   "metadata": {},
   "source": [
    "Insert inside list:"
   ]
  },
  {
   "cell_type": "code",
   "execution_count": 5,
   "metadata": {},
   "outputs": [
    {
     "name": "stdout",
     "output_type": "stream",
     "text": [
      "['splinter', 'leo', 'mike', 'ralph', 'don']\n"
     ]
    }
   ],
   "source": [
    "mylist = ['leo', 'mike', 'ralph', 'don']\n",
    "mylist.insert(0,'splinter')\n",
    "print(mylist)"
   ]
  },
  {
   "cell_type": "markdown",
   "metadata": {},
   "source": [
    "Remove Elements from list:"
   ]
  },
  {
   "cell_type": "code",
   "execution_count": null,
   "metadata": {},
   "outputs": [
    {
     "name": "stdout",
     "output_type": "stream",
     "text": [
      "['mike', 'ralph', 'don']\n"
     ]
    }
   ],
   "source": [
    "mylist = ['leo', 'mike', 'ralph', 'don']\n",
    "del mylist[0]\n",
    "print(mylist)"
   ]
  },
  {
   "cell_type": "markdown",
   "metadata": {},
   "source": [
    "Pop Elements from list:"
   ]
  },
  {
   "cell_type": "code",
   "execution_count": 11,
   "metadata": {},
   "outputs": [
    {
     "name": "stdout",
     "output_type": "stream",
     "text": [
      "['leo', 'ralph', 'don']\n",
      "mike\n"
     ]
    }
   ],
   "source": [
    "chars = ['leo', 'mike', 'ralph', 'don']\n",
    "chars_ele = chars.pop(1)\n",
    "print(chars)\n",
    "print(chars_ele)"
   ]
  },
  {
   "cell_type": "markdown",
   "metadata": {},
   "source": [
    "Remove from list:"
   ]
  },
  {
   "cell_type": "code",
   "execution_count": 14,
   "metadata": {},
   "outputs": [
    {
     "name": "stdout",
     "output_type": "stream",
     "text": [
      "['mike', 'don']\n",
      "ralph\n"
     ]
    }
   ],
   "source": [
    "chars = ['leo', 'mike', 'ralph', 'don']\n",
    "chars.remove('leo')\n",
    "\n",
    "item_remove = 'ralph'\n",
    "chars.remove(item_remove)\n",
    "\n",
    "print(chars)\n",
    "print(item_remove)\n"
   ]
  },
  {
   "cell_type": "markdown",
   "metadata": {},
   "source": [
    "Sort list:"
   ]
  },
  {
   "cell_type": "code",
   "execution_count": 15,
   "metadata": {},
   "outputs": [
    {
     "name": "stdout",
     "output_type": "stream",
     "text": [
      "['don', 'leo', 'mike', 'ralph']\n"
     ]
    }
   ],
   "source": [
    "chars = ['leo', 'mike', 'ralph', 'don']\n",
    "chars.sort()\n",
    "print(chars)"
   ]
  },
  {
   "cell_type": "markdown",
   "metadata": {},
   "source": [
    "Reverse sort list:"
   ]
  },
  {
   "cell_type": "code",
   "execution_count": 16,
   "metadata": {},
   "outputs": [
    {
     "name": "stdout",
     "output_type": "stream",
     "text": [
      "['ralph', 'mike', 'leo', 'don']\n"
     ]
    }
   ],
   "source": [
    "chars = ['leo', 'mike', 'ralph', 'don']\n",
    "chars.sort(reverse=True)\n",
    "print(chars)"
   ]
  },
  {
   "cell_type": "markdown",
   "metadata": {},
   "source": [
    "Sorted list: Temporary\n",
    "If we only want to sort a list temporarily we can use the sorted function. The sorted function allows us to display the list in alphabetical order, but the original list is unchanged. This function also accepts the reverse=True arguement."
   ]
  },
  {
   "cell_type": "code",
   "execution_count": 17,
   "metadata": {},
   "outputs": [
    {
     "name": "stdout",
     "output_type": "stream",
     "text": [
      "['don', 'leo', 'mike', 'ralph']\n"
     ]
    }
   ],
   "source": [
    "chars = ['leo', 'mike', 'ralph', 'don']\n",
    "print(sorted(chars))"
   ]
  },
  {
   "cell_type": "markdown",
   "metadata": {},
   "source": [
    "Reverse list:\n",
    "If we want an easy way to reverse the order of the original list we can use the reverse() method. You cannot undo this change, but you can just REVERSE! REVERSE! aka call the reverse method again to change it back the original order."
   ]
  },
  {
   "cell_type": "code",
   "execution_count": 18,
   "metadata": {},
   "outputs": [
    {
     "name": "stdout",
     "output_type": "stream",
     "text": [
      "['don', 'ralph', 'mike', 'leo']\n"
     ]
    }
   ],
   "source": [
    "chars = ['leo', 'mike', 'ralph', 'don']\n",
    "chars.reverse()\n",
    "print(chars)"
   ]
  },
  {
   "cell_type": "code",
   "execution_count": null,
   "metadata": {},
   "outputs": [],
   "source": []
  }
 ],
 "metadata": {
  "kernelspec": {
   "display_name": "Python 3",
   "language": "python",
   "name": "python3"
  },
  "language_info": {
   "codemirror_mode": {
    "name": "ipython",
    "version": 3
   },
   "file_extension": ".py",
   "mimetype": "text/x-python",
   "name": "python",
   "nbconvert_exporter": "python",
   "pygments_lexer": "ipython3",
   "version": "3.13.2"
  }
 },
 "nbformat": 4,
 "nbformat_minor": 2
}
