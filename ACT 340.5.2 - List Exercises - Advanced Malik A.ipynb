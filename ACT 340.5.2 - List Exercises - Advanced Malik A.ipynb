{
 "cells": [
  {
   "cell_type": "markdown",
   "metadata": {},
   "source": [
    "Problem 1\n",
    "\n",
    "Using the list below, use a Class method to add the string \"skirt\" to the end of the list.\n",
    "clothing= ['socks', 'pants', 'shirt', 'polo']"
   ]
  },
  {
   "cell_type": "code",
   "execution_count": null,
   "metadata": {},
   "outputs": [
    {
     "name": "stdout",
     "output_type": "stream",
     "text": [
      "['skirt', 'socks', 'pants', 'shirt', 'polo']\n"
     ]
    }
   ],
   "source": [
    "clothing = ['socks', 'pants', 'shirt', 'polo'] #List\n",
    "clothing.insert(0, 'skirt') # Insert skirt into place index 0\n",
    "print(clothing) #displayed result\n"
   ]
  },
  {
   "cell_type": "markdown",
   "metadata": {},
   "source": [
    "Problem 2\n",
    "\n",
    "Using the same list as above, add a list to the 2nd index that includes the following strings:\n",
    "'suit jacket', 'suit pants', 'tie', 'button down'"
   ]
  },
  {
   "cell_type": "code",
   "execution_count": null,
   "metadata": {},
   "outputs": [
    {
     "name": "stdout",
     "output_type": "stream",
     "text": [
      "['socks', 'pants', ['suit jacket', 'suit pants', 'tie', 'button down'], 'shirt', 'polo']\n"
     ]
    }
   ],
   "source": [
    "clothing = ['socks', 'pants', 'shirt', 'polo'] #List\n",
    "clothing2 = ['suit jacket', 'suit pants', 'tie', 'button down'] #List2\n",
    "\n",
    "clothing.insert(2, clothing2)#Insert list into list\n",
    "print(clothing) #display result\n"
   ]
  },
  {
   "cell_type": "markdown",
   "metadata": {},
   "source": [
    "Problem 3\n",
    "\n",
    "Use the list below and use a Class method to get the total number of times the integer 14 appears in the list."
   ]
  },
  {
   "cell_type": "code",
   "execution_count": 15,
   "metadata": {},
   "outputs": [
    {
     "name": "stdout",
     "output_type": "stream",
     "text": [
      "1\n"
     ]
    }
   ],
   "source": [
    "nums = [2, 150, 14, 36, 78, 81, 14, 1000, 54, 14, 14] # number list\n",
    "print(nums.count(2)) # count function"
   ]
  },
  {
   "cell_type": "markdown",
   "metadata": {},
   "source": [
    "Problem 4\n",
    "\n",
    "Use the same list as above\n",
    "Use a built-in function to find the total of all the numbers in the list."
   ]
  },
  {
   "cell_type": "code",
   "execution_count": null,
   "metadata": {},
   "outputs": [
    {
     "name": "stdout",
     "output_type": "stream",
     "text": [
      "1457\n"
     ]
    }
   ],
   "source": [
    "nums = [2, 150, 14, 36, 78, 81, 14, 1000, 54, 14, 14] # number list\n",
    "print(sum(nums)) #Sum"
   ]
  },
  {
   "cell_type": "markdown",
   "metadata": {},
   "source": [
    "Problem 5\n",
    "\n",
    "Use the same list as above\n",
    "Slice the list so that it is reversed without using the .reverse() method"
   ]
  },
  {
   "cell_type": "code",
   "execution_count": 19,
   "metadata": {},
   "outputs": [
    {
     "name": "stdout",
     "output_type": "stream",
     "text": [
      "[1000, 150, 81, 78, 54, 36, 14, 14, 14, 14, 2]\n"
     ]
    }
   ],
   "source": [
    "nums = [2, 150, 14, 36, 78, 81, 14, 1000, 54, 14, 14] # number list\n",
    "nums.sort(reverse=True)\n",
    "print(nums)"
   ]
  },
  {
   "cell_type": "markdown",
   "metadata": {},
   "source": [
    "Problem 6\n",
    "Use the list below.\n",
    "Slice the list so only the last two elements are included in the slice."
   ]
  },
  {
   "cell_type": "code",
   "execution_count": 22,
   "metadata": {},
   "outputs": [
    {
     "name": "stdout",
     "output_type": "stream",
     "text": [
      "[4, 5]\n"
     ]
    }
   ],
   "source": [
    "one_to_five = [1, 2, 3, 4, 5]\n",
    "print(one_to_five[-2:])"
   ]
  },
  {
   "cell_type": "markdown",
   "metadata": {},
   "source": [
    "Problem 7\n",
    "Use the list below\n",
    "Write a for loop so that every item in the list is printed"
   ]
  },
  {
   "cell_type": "code",
   "execution_count": 24,
   "metadata": {},
   "outputs": [
    {
     "name": "stdout",
     "output_type": "stream",
     "text": [
      "koala\n",
      "cat\n",
      "fox\n",
      "panda\n",
      "chipmunk\n",
      "sloth\n"
     ]
    }
   ],
   "source": [
    "animals = [\"koala\", \"cat\", \"fox\", \"panda\", \"chipmunk\", \"sloth\"]\n",
    "for x in animals:\n",
    "    print(x)"
   ]
  },
  {
   "cell_type": "markdown",
   "metadata": {},
   "source": [
    "Problem 8\n",
    "Use the list below\n",
    "Create a function that accepts a list as an argument\n",
    "Check if the data type at each index is a list\n",
    "If it is a list, check the length of the list. If it is greater than 3, add the second element to a new list.\n",
    "Return the new list"
   ]
  },
  {
   "cell_type": "code",
   "execution_count": 29,
   "metadata": {},
   "outputs": [],
   "source": [
    "random_things = ['hello', ['breakfast', 'you', 'pencil', 2], 22, ['burrito', 'taco'], [22, 'win', 33, [5], 'laptop']]\n",
    "\n",
    "def my_function (random_things):\n",
    "     for x in random_things:\n",
    "         print(x)"
   ]
  },
  {
   "cell_type": "code",
   "execution_count": null,
   "metadata": {},
   "outputs": [],
   "source": []
  }
 ],
 "metadata": {
  "kernelspec": {
   "display_name": "Python 3",
   "language": "python",
   "name": "python3"
  },
  "language_info": {
   "codemirror_mode": {
    "name": "ipython",
    "version": 3
   },
   "file_extension": ".py",
   "mimetype": "text/x-python",
   "name": "python",
   "nbconvert_exporter": "python",
   "pygments_lexer": "ipython3",
   "version": "3.13.2"
  }
 },
 "nbformat": 4,
 "nbformat_minor": 2
}
