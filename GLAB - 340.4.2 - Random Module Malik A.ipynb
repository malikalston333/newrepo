{
 "cells": [
  {
   "cell_type": "markdown",
   "metadata": {},
   "source": [
    "1: \n",
    "Generate Random Floats\n",
    "The random.random() method returns a random float number between 0.0 and 1.0. The function does not need any arguments."
   ]
  },
  {
   "cell_type": "code",
   "execution_count": 4,
   "metadata": {},
   "outputs": [
    {
     "name": "stdout",
     "output_type": "stream",
     "text": [
      "0.8074389716965044\n"
     ]
    }
   ],
   "source": [
    "import random\n",
    "print(random.random())"
   ]
  },
  {
   "cell_type": "markdown",
   "metadata": {},
   "source": [
    "2: Generate Random Integers\n",
    "The random.randint() method returns a random integer between the specified integers."
   ]
  },
  {
   "cell_type": "code",
   "execution_count": 5,
   "metadata": {},
   "outputs": [
    {
     "name": "stdout",
     "output_type": "stream",
     "text": [
      "93\n",
      "192\n"
     ]
    }
   ],
   "source": [
    "import random\n",
    "print(random.randint(1, 200))\n",
    "print(random.randint(1, 200))"
   ]
  },
  {
   "cell_type": "markdown",
   "metadata": {},
   "source": [
    "3. Generate Random Numbers Within Range\n",
    "The random.randrange() method returns a randomly selected element from the range created by the start, stop and step arguments. The value of start is 0 by default. Similarly, the value of step is 1 by default."
   ]
  },
  {
   "cell_type": "code",
   "execution_count": 8,
   "metadata": {},
   "outputs": [
    {
     "name": "stdout",
     "output_type": "stream",
     "text": [
      "5\n",
      "5\n",
      "70\n"
     ]
    }
   ],
   "source": [
    "import random\n",
    "\n",
    "print(random.randrange(1, 10))\n",
    "print(random.randrange(1, 10, 2))\n",
    "print(random.randrange(0, 101, 10))"
   ]
  },
  {
   "cell_type": "markdown",
   "metadata": {},
   "source": [
    "4: Select Random Elements\n",
    "The random.choice() method returns a randomly selected element from a non-empty sequence. An empty sequence as an argument raises an IndexError."
   ]
  },
  {
   "cell_type": "code",
   "execution_count": 9,
   "metadata": {},
   "outputs": [
    {
     "name": "stdout",
     "output_type": "stream",
     "text": [
      "e\n",
      "12\n",
      "45\n"
     ]
    }
   ],
   "source": [
    "import random\n",
    "\n",
    "print(random.choice('computer'))  \n",
    "print(random.choice([12,23,45,67,65,43]))\n",
    "print(random.choice((12,23,45,67,65,43)))\n"
   ]
  },
  {
   "cell_type": "markdown",
   "metadata": {},
   "source": [
    "5: Select Random Items from Data Set\n",
    "The random.sample() function chooses a sample/multiple items from a Python list, set, or dictionary. It returns a list of unique items chosen randomly from the list, sequence, or set."
   ]
  },
  {
   "cell_type": "code",
   "execution_count": null,
   "metadata": {},
   "outputs": [],
   "source": [
    "import random\n",
    "aList = [20, 40, 80, 100, 120]\n",
    "sampled_list = random.sample(aList, 3)\n",
    "print(sampled_list)"
   ]
  },
  {
   "cell_type": "code",
   "execution_count": 14,
   "metadata": {},
   "outputs": [
    {
     "name": "stdout",
     "output_type": "stream",
     "text": [
      "[52, 40, 69, 14, 15, 17, 90]\n"
     ]
    }
   ],
   "source": [
    "import random\n",
    "# create list of 7 random numbers\n",
    "num_list = random.sample(range(100), 7)\n",
    "print(num_list)"
   ]
  }
 ],
 "metadata": {
  "kernelspec": {
   "display_name": "Python 3",
   "language": "python",
   "name": "python3"
  },
  "language_info": {
   "codemirror_mode": {
    "name": "ipython",
    "version": 3
   },
   "file_extension": ".py",
   "mimetype": "text/x-python",
   "name": "python",
   "nbconvert_exporter": "python",
   "pygments_lexer": "ipython3",
   "version": "3.13.2"
  }
 },
 "nbformat": 4,
 "nbformat_minor": 2
}
