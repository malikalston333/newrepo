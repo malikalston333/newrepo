{
 "cells": [
  {
   "cell_type": "markdown",
   "metadata": {},
   "source": [
    "Advance Example"
   ]
  },
  {
   "cell_type": "code",
   "execution_count": null,
   "metadata": {},
   "outputs": [
    {
     "name": "stdout",
     "output_type": "stream",
     "text": [
      "[2008, 2013, 2020, 2024]\n",
      "\n",
      "[1991, 1994, 1999, 2003, 2008, 2013, 2020, 2024]\n"
     ]
    }
   ],
   "source": [
    "recent_year = [2024, 2020, 2013, 2008] #list in year reverse\n",
    "recent_year2 = [1991, 1994, 1999, 2003] # list of year\n",
    "\n",
    "recent_year.reverse() # list reversed\n",
    "print(recent_year) #displayed list in correct order\n",
    "print() #space\n",
    "recent_year2.extend(recent_year)\n",
    "print(recent_year2) # new list"
   ]
  },
  {
   "cell_type": "markdown",
   "metadata": {},
   "source": [
    "Use define function"
   ]
  },
  {
   "cell_type": "code",
   "execution_count": 6,
   "metadata": {},
   "outputs": [
    {
     "name": "stdout",
     "output_type": "stream",
     "text": [
      "[1991, 1994, 1999, 2003, 2008, 2013, 2020, 2024]\n"
     ]
    }
   ],
   "source": [
    "recent_first = [2024, 2020, 2013, 2008] #list in year reverse\n",
    "recent_last = [1991, 1994, 1999, 2003] # list of year\n",
    "\n",
    "def record_years(recent_first, recent_last):\n",
    "    recent_first.reverse()\n",
    "     #Reverse the order\n",
    "\n",
    "    recent_last.extend(recent_first)\n",
    "     #append the newly reversed list\n",
    "\n",
    "    return recent_last \n",
    "    #return the \"recent_last\" which now contains the 2 lists in chronological order\n",
    "\n",
    "print(record_years(recent_first, recent_last))"
   ]
  },
  {
   "cell_type": "code",
   "execution_count": null,
   "metadata": {},
   "outputs": [],
   "source": []
  }
 ],
 "metadata": {
  "kernelspec": {
   "display_name": "Python 3",
   "language": "python",
   "name": "python3"
  },
  "language_info": {
   "codemirror_mode": {
    "name": "ipython",
    "version": 3
   },
   "file_extension": ".py",
   "mimetype": "text/x-python",
   "name": "python",
   "nbconvert_exporter": "python",
   "pygments_lexer": "ipython3",
   "version": "3.13.2"
  }
 },
 "nbformat": 4,
 "nbformat_minor": 2
}
