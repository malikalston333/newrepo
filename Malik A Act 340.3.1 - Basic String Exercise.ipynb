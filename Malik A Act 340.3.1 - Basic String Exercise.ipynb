{
 "cells": [
  {
   "cell_type": "markdown",
   "metadata": {},
   "source": [
    "Problem 1\n",
    "\n",
    "Use the following string to practice the string methods below:\n",
    "\n",
    "\"Everything is an Object in Python!!!\"\n",
    "\n",
    "\n",
    "Convert the entire string to uppercase\n",
    "Convert the entire string to lowercase\n",
    "Convert only the first letter to uppercas"
   ]
  },
  {
   "cell_type": "code",
   "execution_count": null,
   "metadata": {},
   "outputs": [
    {
     "name": "stdout",
     "output_type": "stream",
     "text": [
      "PYTHON ROCKS!\n",
      "python rocks!\n",
      "Python rocks!\n"
     ]
    }
   ],
   "source": [
    "#Basic functions\n",
    "string1 = \"python rocks!\" \n",
    "print(string1.upper())\n",
    "print(string1.lower())\n",
    "print(string1.capitalize())"
   ]
  },
  {
   "cell_type": "markdown",
   "metadata": {},
   "source": [
    "**Problem 2**\n",
    "\n",
    "Find a short quote and its author. Assign the quote to a variable and assign the name of the author to another variable.\n",
    "\n",
    "Use fstring to create a new variable called message the replicates the following format:\n",
    "\n",
    "\"Michael Scott once said, \"I'm not superstitious but I am a little stitious.\"\n",
    "\n"
   ]
  },
  {
   "cell_type": "code",
   "execution_count": null,
   "metadata": {},
   "outputs": [
    {
     "name": "stdout",
     "output_type": "stream",
     "text": [
      "Bruce Lee once said,\"Be Happy, but never satsified.\"\n",
      "Bruce Lee once said, 'Be Happy, but never satsified..'\n"
     ]
    }
   ],
   "source": [
    "#Practice F string\n",
    "famous_person = \"Bruce Lee\"\n",
    "\n",
    "quote = \"Be Happy, but never satsified.\"\n",
    "\n",
    "print(f'{famous_person} once said,\"{quote}\"')\n",
    "print(\"{} once said, '{}.'\".format(famous_person,quote)) #I don't understand this format of fstring.I prefer using the above method."
   ]
  },
  {
   "cell_type": "markdown",
   "metadata": {},
   "source": [
    "**Problem 3**\n",
    "\n",
    "Create a string to practice indexing and slicing on.\n",
    "\n",
    "\n",
    "*  Include at least on whitespace\n",
    "*  Include at least one special charachter\n",
    "*  Must have a length of at least 10\n",
    "\n",
    "Complete the following\n",
    "\n",
    "*  Reverse the entire string\n",
    "*  Get the last charachter of the string\n",
    "*  Get every other chrachter in the string\n",
    "*  Check the length of the string\n",
    "*  Get the 4th charachter in the string\n",
    "*  Get the 4th charachter through the 9th charachter in the string\n",
    "*  Get the 7th through last charachter in the string\n",
    "\n",
    "\n",
    "\n"
   ]
  },
  {
   "cell_type": "code",
   "execution_count": 46,
   "metadata": {},
   "outputs": [
    {
     "name": "stdout",
     "output_type": "stream",
     "text": [
      "I want to be great at Python!\n",
      "!nohtyP ta taerg eb ot tnaw I\n",
      "!\n",
      "Iwn ob ra tPto!\n",
      "29\n",
      "n\n",
      "nt to \n",
      "to be great at Python!\n"
     ]
    }
   ],
   "source": [
    "string1 = \"I want to be great at Python!\"\n",
    "\n",
    "print(string1)\n",
    "print(string1[::-1]) # Reverse the entire string\n",
    "print(string1[28])\n",
    "print(string1[::2])\n",
    "print(len(string1))\n",
    "print(string1[4])\n",
    "print(string1[4:10])\n",
    "print(string1[7:29])"
   ]
  }
 ],
 "metadata": {
  "kernelspec": {
   "display_name": "Python 3",
   "language": "python",
   "name": "python3"
  },
  "language_info": {
   "codemirror_mode": {
    "name": "ipython",
    "version": 3
   },
   "file_extension": ".py",
   "mimetype": "text/x-python",
   "name": "python",
   "nbconvert_exporter": "python",
   "pygments_lexer": "ipython3",
   "version": "3.13.2"
  }
 },
 "nbformat": 4,
 "nbformat_minor": 2
}
