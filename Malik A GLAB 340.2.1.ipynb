{
 "cells": [
  {
   "cell_type": "markdown",
   "metadata": {},
   "source": [
    "Guided Lab 340.2.1 - Pythom Operators:\n",
    "1. Arithmetic Operators\n",
    "\n",
    "a = 32    # Initialize the value of a  \n",
    "b = 6      # Initialize the value of b  \n",
    "print('Addition of two numbers:',a+b)  \n",
    "print('Subtraction of two numbers:',a-b)  \n",
    "print('Multiplication of two numbers:',a*b)  \n",
    "print('Division of two numbers:',a/b)  \n",
    "print('Reminder of two numbers:',a%b)  \n",
    "print('Exponent of two numbers:',a**b)  \n",
    "print('Floor division of two numbers:',a//b)  \n",
    "MultipleOperators = 1 + 2 * 3 / 4.0\n",
    "print(\"Result of MultipleOperators is: \",MultipleOperators)"
   ]
  },
  {
   "cell_type": "code",
   "execution_count": null,
   "metadata": {},
   "outputs": [
    {
     "name": "stdout",
     "output_type": "stream",
     "text": [
      "Addition of three numbers 37\n",
      "Subtraction of three numbers 16\n",
      "Multiplication of three numbers 960\n",
      "Division of two numbers 6.4\n",
      "Remainder of two numbers 1\n",
      "Exponent of two numbers 100000\n",
      "Floor division of two numbers 6\n",
      "Result of Multiple Operators is  60466208\n"
     ]
    }
   ],
   "source": [
    "a = 32 # Initialize the value of a\n",
    "b = 6 # Initialize the value of b\n",
    "c = 10 # Initialize the value of c\n",
    "d = 5 # Initialize the value of d\n",
    "\n",
    "# Display Results\n",
    "\n",
    "print (\"Addition of three numbers\",a+d)\n",
    "print (\"Subtraction of three numbers\",a-c-b)\n",
    "print (\"Multiplication of three numbers\",d*b*a)\n",
    "print(\"Division of two numbers\", a/d)\n",
    "print(\"Remainder of two numbers\", b%d)\n",
    "print(\"Exponent of two numbers\", c**d)\n",
    "print(\"Floor division of two numbers\", a//d)\n",
    "MultipleOperators = 32 + 6 ** 10\n",
    "print (\"Result of Multiple Operators is \",MultipleOperators)\n"
   ]
  },
  {
   "cell_type": "markdown",
   "metadata": {},
   "source": [
    "2. Assignment Operators\n",
    "\n",
    "a = 32         # Initialize the value of a  \n",
    "b = 6          # Initialize the value of b  \n",
    "print('a=b:', a==b)  #\n",
    "print('a+=b:', a+b)  # shorthand of a = a + b\n",
    "print('a-=b:', a-b)  # shorthand of a = a - b\n",
    "print('a*=b:', a*b)  # shorthand of a = a * b\n",
    "print('a%=b:', a%b)  # shorthand of a = a % b\n",
    "print('a**=b:', a**b)  # shorthand of a = a ** b\n",
    "print('a//=b:', a//b)  # shorthand of a = a/ b  \n",
    "   \n",
    "j = 10 # j gets the value 10.\n",
    "print(\"j is : \" , j)\n",
    "j = 5 # j gets the value 5. The previous value is overwritten.\n",
    "k = j # k gets the value 5.\n",
    "print(\"j is : \" , j)\n",
    "print(\"k is : \" , k)\n",
    "\n",
    "\n",
    "k = j = 10; # (k = (j = 10))\n",
    "print(\"j is : \" , j)\n",
    "print(\"k is : \" , k)"
   ]
  },
  {
   "cell_type": "code",
   "execution_count": 28,
   "metadata": {},
   "outputs": [
    {
     "name": "stdout",
     "output_type": "stream",
     "text": [
      "d=e: False\n",
      "d+=e 50\n",
      "d-=e 30\n",
      "d*=e 400\n",
      "d%=e 0\n",
      "d**=e 10485760000000000\n",
      "d//e 4\n",
      "\n",
      "f is : 20\n",
      "\n",
      "f is : 10\n",
      "g is : 10\n",
      "f is : 10\n",
      "g is : 10\n",
      "\n",
      "This concludes the Assignment Operators Demo.\n"
     ]
    }
   ],
   "source": [
    "d = 40 # Initialize the value of d\n",
    "e = 10 # Initialize the value of e\n",
    "\n",
    "# Display Results\n",
    "\n",
    "print (\"d=e:\",d==e)\n",
    "print (\"d+=e\", d+e) # shorthand of d = d+e\n",
    "print (\"d-=e\", d-e) # shorthand of d = d-e\n",
    "print (\"d*=e\", d*e) # shorthand of d = d*e\n",
    "print (\"d%=e\", d%e) # shorthand of d = d%e\n",
    "print (\"d**=e\", d**e) # shorthand of d = d**e\n",
    "print (\"d//e\", d//e) # shorthand of d = d/e\n",
    "print()\n",
    "\n",
    "# New Example\n",
    "f = 20 # f gets the value 20\n",
    "print(\"f is :\", f)\n",
    "print()\n",
    "f = 10 # f gets the value 10. The previous value has been repalced  & reassigned\n",
    "g = f # g gets the value of 10\n",
    "print(\"f is :\", f)\n",
    "print(\"g is :\", g)\n",
    "\n",
    "# Further example of assigning values\n",
    "g = f = 10; # (g = (f =10)\n",
    "print(\"f is :\", f)\n",
    "print(\"g is :\", g)\n",
    "print()\n",
    "print(\"This concludes the Assignment Operators Demo.\")"
   ]
  },
  {
   "cell_type": "markdown",
   "metadata": {},
   "source": [
    "3. Comparison Operators\n",
    "\n",
    "a = 32      # Initialize the value of a  \n",
    "b = 6       # Initialize the value of b  \n",
    "print('Two numbers are equal or not:',a==b)  \n",
    "print('Two numbers are not equal or not:',a!=b)  \n",
    "print('a is less than or equal to b:',a<=b)  \n",
    "print('a is greater than or equal to b:',a>=b)  \n",
    "print('a is greater b:',a>b)  \n",
    "print('a is less than b:',a<b)"
   ]
  },
  {
   "cell_type": "code",
   "execution_count": null,
   "metadata": {},
   "outputs": [
    {
     "name": "stdout",
     "output_type": "stream",
     "text": [
      "Below we will review Comparison Operators\n",
      "\n",
      "Two numbers are equal or not False\n",
      "Two numbers are not equal or not: True\n",
      "y is less than or equal to z:  True\n",
      "y is greater than or equal to z:  False\n",
      "y is less than z:  True\n",
      "y is greater than z:  False\n"
     ]
    }
   ],
   "source": [
    "print(\"Below we will review Comparison Operators\")\n",
    "\n",
    "y = 552 # Initialize the value of y\n",
    "z = 6000 # Initialize the value of z\n",
    "\n",
    "# Display Results\n",
    "\n",
    "print()\n",
    "print(\"Two numbers are equal or not\", y==z)\n",
    "print(\"Two numbers are not equal or not:\", y!=z)\n",
    "print(\"y is less than or equal to z: \",y<=z)\n",
    "print(\"y is greater than or equal to z: \",y>=z)\n",
    "print(\"y is less than z: \",y<z)\n",
    "print(\"y is greater than z: \",y>z)\n"
   ]
  },
  {
   "cell_type": "markdown",
   "metadata": {},
   "source": [
    "4. Logical Operators\n",
    "\n",
    "a = 5          # initialize the value of a    \n",
    "print('Is this statement true?:',a > 3 and a < 5)  \n",
    "print('Any one statement is true?:',a > 3 or a < 5)  \n",
    "print('Each statement is true then return False and vice-versa:',(not(a > 3 and a < 5)))"
   ]
  },
  {
   "cell_type": "code",
   "execution_count": null,
   "metadata": {},
   "outputs": [
    {
     "name": "stdout",
     "output_type": "stream",
     "text": [
      "Is this statement true?: False\n",
      "Any one statement true?: True\n",
      "Each statement is true then return False and vice-versa: True\n"
     ]
    }
   ],
   "source": [
    "y = 19 #initialize the value of y\n",
    "\n",
    "# Display Results\n",
    "\n",
    "print(\"Is this statement true?:\",y >3 and y < 5) # Showing an and statement\n",
    "print(\"Any one statement true?:\",  y > 3 or y < 5) # Showing an or statement\"\n",
    "print('Each statement is true then return False and vice-versa:',(not(y > 3 and a < 5))) # showing not & and statement"
   ]
  },
  {
   "cell_type": "markdown",
   "metadata": {},
   "source": [
    "5. Identity Operators\n",
    "\n",
    "a = [\"Rose\", \"Lotus\"]\n",
    "b = [\"Rose\", \"Lotus\"]\n",
    "c = a\n",
    "print(a is c)\n",
    "print(a is not c)\n",
    "print(a is b)\n",
    "print(a is not b)\n",
    "print(a == b)\n",
    "print(a != b)"
   ]
  },
  {
   "cell_type": "code",
   "execution_count": 73,
   "metadata": {},
   "outputs": [
    {
     "name": "stdout",
     "output_type": "stream",
     "text": [
      "\n",
      "Is x equal to z?\n",
      "The answer is True\n",
      "\n",
      "If the answer is not true it is....\n",
      "False\n",
      "\n",
      "Is x equal to y?\n",
      "The answer is False\n",
      "\n",
      "X can't be y!\n",
      "True\n",
      "\n",
      "Is x equal to y?\n",
      "False\n",
      "\n",
      "Ok we figured it out! X is not equal to y!\n",
      "True\n"
     ]
    }
   ],
   "source": [
    "x = [\"Han\", \"Luke\"]\n",
    "y = [\"Han\", \"Leia\"]\n",
    "z = x\n",
    "\n",
    "# Display Results\n",
    "\n",
    "print()\n",
    "print(\"Is x equal to z?\")\n",
    "print(\"The answer is\" ,x is z)\n",
    "print() # Space\n",
    "print(\"If the answer is not true it is....\")\n",
    "print(x is not z)\n",
    "print() #  Space\n",
    "print(\"Is x equal to y?\")\n",
    "print(\"The answer is\" ,x is y)\n",
    "print() # Space\n",
    "print(\"X can't be y!\")\n",
    "print(x is not y)\n",
    "print() # Space\n",
    "print(\"Is x equal to y?\")\n",
    "print(x == y)\n",
    "print() # Space\n",
    "print(\"Ok we figured it out! X is not equal to y!\")\n",
    "print(x != y)"
   ]
  },
  {
   "cell_type": "markdown",
   "metadata": {},
   "source": [
    "6. Membership Operators\n",
    "\n",
    "x = [\"Rose\", \"Lotus\"]  \n",
    "print(' Is value Present?', \"Rose\" in x)  \n",
    "print(' Is value not Present?', \"Riya\" not in x)    \n",
    "\n",
    "\n",
    "x = 'Hello world'\n",
    "y = {1:'a', 2:'b'}\n",
    "\n",
    "\n",
    "# check if 'H' is present in x string\n",
    "print('H' in x)  # prints True\n",
    "# check if 'hello' is present in x string\n",
    "print('hello' not in x)  # prints True\n",
    "# check if '1' key is present in y\n",
    "print(1 in y)  # prints True\n",
    "# check if 'a' key is present in y\n",
    "print('a' in y)  # prints False"
   ]
  },
  {
   "cell_type": "code",
   "execution_count": 74,
   "metadata": {},
   "outputs": [
    {
     "name": "stdout",
     "output_type": "stream",
     "text": [
      " Is S in Simba? True\n",
      " Is N in Simba? False\n",
      "\n",
      "True\n",
      "True\n",
      "True\n",
      "False\n"
     ]
    }
   ],
   "source": [
    "s = [\"Simba\", \"Nala\"]  \n",
    "print(' Is S in Simba?', \"Simba\" in s)  \n",
    "print(' Is N in Simba?', \"Nala\" not in s)    \n",
    "\n",
    "\n",
    "s = 'Hello world'\n",
    "n = {1:'a', 2:'b'}\n",
    "print()\n",
    "# Display Result\n",
    "\n",
    "# check if 'H' is present in x string\n",
    "print('H' in s)  # prints True\n",
    "# check if 'hello' is present in x string\n",
    "print('hello' not in s)  # prints True\n",
    "# check if '1' key is present in y\n",
    "print(1 in n)  # prints True\n",
    "# check if 'a' key is present in y\n",
    "print('a' in n)  # prints False"
   ]
  }
 ],
 "metadata": {
  "kernelspec": {
   "display_name": "myenv",
   "language": "python",
   "name": "python3"
  },
  "language_info": {
   "codemirror_mode": {
    "name": "ipython",
    "version": 3
   },
   "file_extension": ".py",
   "mimetype": "text/x-python",
   "name": "python",
   "nbconvert_exporter": "python",
   "pygments_lexer": "ipython3",
   "version": "3.13.2"
  }
 },
 "nbformat": 4,
 "nbformat_minor": 2
}
