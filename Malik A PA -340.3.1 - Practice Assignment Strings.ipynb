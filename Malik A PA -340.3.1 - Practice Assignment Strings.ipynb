{
 "cells": [
  {
   "cell_type": "markdown",
   "metadata": {},
   "source": [
    "# Word Play Game"
   ]
  },
  {
   "cell_type": "code",
   "execution_count": null,
   "metadata": {},
   "outputs": [
    {
     "name": "stdout",
     "output_type": "stream",
     "text": [
      "Length of word: 6\n",
      "Uppercase: PYTHON\n",
      "Lowercase: python\n",
      "This letter appears 1 times in the word.\n",
      "This substring appears 1 times in the word\n",
      "Reverse: nohtyp\n",
      "Remember there are 6 letters in this word\n",
      "Sliced word: y\n",
      "Replaced: xython\n",
      "Concatenated: pythonrocks\n"
     ]
    }
   ],
   "source": [
    "word = input(\"Please enter a word:\")\n",
    "\n",
    "# Length of word\n",
    "print (\"Length of word:\", len(word))\n",
    "\n",
    "# Uppercase and Lowercase\n",
    "print (\"Uppercase:\", word.upper())\n",
    "print (\"Lowercase:\", word.lower())\n",
    "\n",
    "#Counting letters\n",
    "letter = input(\"Please enter one letter:\")\n",
    "print (\"This letter appears\", word.count(letter), \"times in the word.\")\n",
    "\n",
    "substring = input(\"Please enter a substring:\")\n",
    "print (\"This substring appears\", word.count(substring), \"times in the word\")\n",
    "\n",
    "#Reverse word\n",
    "reverse_word = word[::-1]\n",
    "print(\"Reverse:\", reverse_word)\n",
    "print(\"Remember there are\", len(word), \"letters in this word\")\n",
    "start_index = int(input(\"From the length of the word enter a starting number:\"))\n",
    "end_index = int(input(\"From the length of the word enter an ending number:\"))\n",
    "sliced_word = word[start_index:end_index]\n",
    "print(\"Sliced word:\", sliced_word)\n",
    "\n",
    "#Replacing the character\n",
    "char_to_replace = input(\"Enter a character to replace: \")\n",
    "replacement_char = input(\"Enter the replacement character: \")\n",
    "new_word = word.replace(char_to_replace, replacement_char, 1)\n",
    "print(\"Replaced:\", new_word)\n",
    "\n",
    "#Adding words\n",
    "second_word = input(\"Enter a second word:\")\n",
    "concatenated_word = word + second_word\n",
    "print(\"Concatenated:\", concatenated_word)\n",
    "\n",
    "# Checking for palindrome and valid identifier\n",
    "is_palindrome = word == reverse_word\n",
    "is_valid_identifier = word.isidentifier()\n",
    "\n",
    "print(\"Is a palindrome?\", is_palindrome)\n",
    "print(\"Is a valid Python identifier?\", is_valid_identifier)\n",
    "\n",
    "\n",
    "\n",
    "\n"
   ]
  }
 ],
 "metadata": {
  "kernelspec": {
   "display_name": "Python 3",
   "language": "python",
   "name": "python3"
  },
  "language_info": {
   "codemirror_mode": {
    "name": "ipython",
    "version": 3
   },
   "file_extension": ".py",
   "mimetype": "text/x-python",
   "name": "python",
   "nbconvert_exporter": "python",
   "pygments_lexer": "ipython3",
   "version": "3.13.2"
  }
 },
 "nbformat": 4,
 "nbformat_minor": 2
}
