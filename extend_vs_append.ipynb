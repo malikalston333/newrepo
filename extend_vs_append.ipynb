In Python, both `extend()` and `append()` are methods used to modify lists, but they have different purposes:

1. `append()`:
The `append()` method is used to add a single element to the end of a list. It takes a single argument, which is the element you want to add to the list. The list will be modified in place, and the length of the list will increase by one after the element is appended.

Example:
```python
my_list = [1, 2, 3]
my_list.append(4)
print(my_list)  # Output: [1, 2, 3, 4]
```

2. `extend()`:
The `extend()` method is used to add multiple elements to the end of a list. It takes an iterable (e.g., list, tuple, string, etc.) as an argument, and it adds all the elements from the iterable to the list. The list will be modified in place, and its length will increase by the number of elements in the iterable.

Example:
```python
my_list = [1, 2, 3]
another_list = [4, 5, 6]
my_list.extend(another_list)
print(my_list)  # Output: [1, 2, 3, 4, 5, 6]
```

It's important to note that when you use `extend()`, the elements of the iterable are individually added to the list. If the iterable is itself a list, its elements will be added as separate elements in the target list. On the other hand, if you use `append()` with a list as an argument, the entire list will be added as a single element.

Example:
```python
my_list = [1, 2, 3]
another_list = [4, 5, 6]
my_list.append(another_list)
print(my_list)  # Output: [1, 2, 3, [4, 5, 6]]

my_list = [1, 2, 3]
another_list = [4, 5, 6]
my_list.extend(another_list)
print(my_list)  # Output: [1, 2, 3, 4, 5, 6]
```

In summary:
- `append()` adds a single element at the end of the list.
- `extend()` adds all elements from an iterable (e.g., list, tuple, etc.) to the end of the list.